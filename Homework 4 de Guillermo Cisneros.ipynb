{
 "cells": [
  {
   "cell_type": "markdown",
   "id": "8d0a8bef",
   "metadata": {},
   "source": [
    "# Homework 4\n",
    "### Guillermo Cisneros (00206286)"
   ]
  },
  {
   "cell_type": "markdown",
   "id": "35509289",
   "metadata": {},
   "source": [
    "## 1. [10 pts] Given a list of list of dimension m x n (2-D matrix) representing a map of '1's (land) and '0's (water), write a Python function that returns the number of islands and takes the matrix as input. \n",
    "\n",
    "- An island is surrounded by water and is formed by connecting adjacent lands horizontally or vertically.\\\n",
    "- Assume all four edges of the matrix are all surrounded by water.\n",
    "- Write an implementation for BFS and one for DFS\n",
    "\n",
    "\n",
    "Example:\n",
    "\n",
    "```\n",
    "Input: map = [\n",
    "  [\"1\",\"1\",\"0\",\"0\",\"0\"],\n",
    "  [\"1\",\"1\",\"0\",\"0\",\"0\"],\n",
    "  [\"0\",\"0\",\"1\",\"0\",\"0\"],\n",
    "  [\"0\",\"0\",\"0\",\"1\",\"1\"]\n",
    "]\n",
    "Output: 3\n",
    "```\n"
   ]
  },
  {
   "cell_type": "code",
   "execution_count": 27,
   "id": "23826b03",
   "metadata": {},
   "outputs": [],
   "source": [
    "from collections import deque\n",
    "\n",
    "class Islas:\n",
    "    \n",
    "    def __init__(self,matriz,fila,columna):\n",
    "        self.matriz=[matriz[i] for i in range (len(matriz))]\n",
    "        self.fila=fila\n",
    "        self.columna=columna\n",
    "        self.NuevoCol = [-1,0,1,-1,1,-1,0,1]\n",
    "        self.NuevoFil = [-1,-1,-1,0,0,1,1,1]\n",
    "        self.resultado=[[False for y in range(self.columna)]for x in range(self.fila)]\n",
    "        self.islas=0\n",
    "        \n",
    "      \n",
    "    def Confiable(self,resultado,i,j):\n",
    "        return (i>=0 and j>=0 and i<self.fila and j<self.columna and not resultado[i][j] and self.matriz[i][j])\n",
    "    \n",
    "    \n",
    "    def DFS(self,resultado,x,y):\n",
    "        \n",
    "        for llave in range (len(self.NuevoCol)):\n",
    "            resultado[x][y] = True\n",
    "            NuovoX = x + self.NuevoFil[llave]\n",
    "            NuovoY = y + self.NuevoCol[llave]\n",
    "            \n",
    "            if self.Confiable(resultado, NuovoX, NuovoY):\n",
    "                self.DFS(resultado,NuovoX,NuovoY)\n",
    "             \n",
    "                \n",
    "    def BFS (self,resultado,x,y):\n",
    "        fila = deque()\n",
    "        fila.append([x,y])\n",
    "        \n",
    "        while len(fila):\n",
    "            temporal = fila.popleft()\n",
    "            x = temporal[0]\n",
    "            y = temporal[1]\n",
    "            \n",
    "            for llave in range (len(self.NuevoCol)):\n",
    "                resultado[x][y] = True\n",
    "                NuovoX = x + self.NuevoFil[llave]\n",
    "                NuovoY = y + self.NuevoCol[llave]\n",
    "               \n",
    "                if self.Confiable(resultado, NuovoX, NuovoY):\n",
    "                    self.BFS(resultado,NuovoX,NuovoY)\n",
    "                    a=[(NuovoX),(NuovoY)]\n",
    "                    fila.append(a)\n",
    "                   \n",
    "                \n",
    "    def IslasDFS(self):\n",
    "        for i in range (self.fila):\n",
    "            for j in range(self.columna):\n",
    "                if self.matriz[i][j] == 1 and self.resultado[i][j] == False:\n",
    "                    self.DFS(self.resultado,i,j)\n",
    "                    self.islas+=1   \n",
    "                    \n",
    "        return self.islas\n",
    "\n",
    "                   \n",
    "                   \n",
    "    def IslasBFS(self):\n",
    "        for i in range (self.fila):\n",
    "            for j in range(self.columna):\n",
    "                if self.matriz[i][j] == 1 and  self.resultado[i][j] == False:\n",
    "                    self.BFS(self.resultado,i,j)\n",
    "                    self.islas+=1 \n",
    "                    \n",
    "        return self.islas\n",
    "                            "
   ]
  },
  {
   "cell_type": "code",
   "execution_count": 28,
   "id": "3f5949e2",
   "metadata": {},
   "outputs": [
    {
     "name": "stdout",
     "output_type": "stream",
     "text": [
      " \n",
      "El numero de islas con DFS son:  2\n",
      "El numero de islas con BFS son:  2\n",
      " \n"
     ]
    }
   ],
   "source": [
    "isla = [\n",
    "  [1,1,0,0,0],\n",
    "  [1,1,0,0,0],\n",
    "  [0,0,0,0,0],\n",
    "  [0,0,0,1,1]\n",
    "  ]\n",
    "\n",
    "mapa= Islas(isla,len(isla),len(isla[0]))\n",
    "print(\" \")\n",
    "print (\"El numero de islas con DFS son: \", mapa.IslasDFS())\n",
    "print (\"El numero de islas con BFS son: \", mapa.IslasBFS())\n",
    "print(\" \")"
   ]
  },
  {
   "cell_type": "markdown",
   "id": "c244ed40",
   "metadata": {},
   "source": [
    "## 2. [5 pts] A perfect square is an integer that is the square of an integer; in other words, it is the product of some integer with itself. For example, 1, 4, 9, and 16 are perfect squares, and 2 and 5 are not perfect squares\n",
    "\n",
    "Use BFS and write a Python function that gets a number `n` as input and return the least number of perfect square numbers that sum to `n`\n",
    "\n",
    "Example 1:\n",
    "\n",
    "```\n",
    "Input: n = 12\n",
    "Output: 3\n",
    "Explanation: 12 = 4 + 4 + 4.\n",
    "```\n",
    "\n",
    "Example 2:\n",
    "```\n",
    "Input: n = 13\n",
    "Output: 2\n",
    "Explanation: 13 = 4 + 9.\n",
    "```\n",
    "\n",
    "\n",
    "**Hint 1:**\n",
    "\n",
    "You can build a graph (n-ary tree) using the input as the root, and the children the difference between the input and the perfect squares less or equal to the input. Each of the children can become the root of a subtree built using the same idea. For example, the graph below reflects the first level of the tree for `n=17`. \n",
    "\n",
    "![](./hint1.png)\n",
    "\n",
    "\n",
    "Once the graph is defined, you can run BFS"
   ]
  },
  {
   "cell_type": "code",
   "execution_count": 35,
   "id": "2082a671",
   "metadata": {},
   "outputs": [],
   "source": [
    "import sys\n",
    "sys.setrecursionlimit(1000000)\n",
    "\n",
    "class Cuadrado:\n",
    "    def BFS(self,n):\n",
    "        \n",
    "        numero = n\n",
    "        \n",
    "        for i in range (1, n+1):\n",
    "            valorTemporal = pow(i,2)\n",
    "            valorDiferencia = n-valorTemporal\n",
    "            \n",
    "            if n==0:\n",
    "                return 0\n",
    "            \n",
    "            if n==1 or n==2 or n==3:\n",
    "                return n\n",
    "            \n",
    "            if n < valorTemporal:\n",
    "                break\n",
    "                \n",
    "            else:\n",
    "                unique = self.BFS(valorDiferencia)+1\n",
    "                numero = min (numero,unique)\n",
    "                \n",
    "        return numero\n",
    "            "
   ]
  },
  {
   "cell_type": "code",
   "execution_count": 36,
   "id": "df83c724",
   "metadata": {},
   "outputs": [
    {
     "name": "stdout",
     "output_type": "stream",
     "text": [
      "Para conformar:  13  se necesitan de:  2  cuadrados perfectos\n"
     ]
    }
   ],
   "source": [
    "n=13\n",
    "a=Cuadrado()\n",
    "print(\"Para conformar: \",n,\" se necesitan de: \",a.BFS(n),\" cuadrados perfectos\")"
   ]
  }
 ],
 "metadata": {
  "kernelspec": {
   "display_name": "Python 3",
   "language": "python",
   "name": "python3"
  },
  "language_info": {
   "codemirror_mode": {
    "name": "ipython",
    "version": 3
   },
   "file_extension": ".py",
   "mimetype": "text/x-python",
   "name": "python",
   "nbconvert_exporter": "python",
   "pygments_lexer": "ipython3",
   "version": "3.8.8"
  }
 },
 "nbformat": 4,
 "nbformat_minor": 5
}
