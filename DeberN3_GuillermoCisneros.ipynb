{
 "cells": [
  {
   "cell_type": "markdown",
   "id": "18735944",
   "metadata": {},
   "source": [
    "# Homework 3\n",
    "\n",
    "### Guillermo Cisneros (00206286)"
   ]
  },
  {
   "cell_type": "markdown",
   "id": "8fb12755",
   "metadata": {},
   "source": [
    "\n"
   ]
  },
  {
   "cell_type": "markdown",
   "id": "cae87a99",
   "metadata": {},
   "source": [
    "## Verdadero o falso con argumentos"
   ]
  },
  {
   "cell_type": "markdown",
   "id": "dd24dc62",
   "metadata": {},
   "source": [
    "### 1.  Una función recursiva resuelve un problema resolviendo una parte mas pequeña del mismo problema "
   ]
  },
  {
   "cell_type": "markdown",
   "id": "285b798e",
   "metadata": {},
   "source": [
    "Verdadero, la principal caracteristica de las funciones recursivas es el poder utilizarse en partes para resolver un problema. Es decir se puede usar dentro de un problema un funcion recursiva la cantidad de veces necesaria para resolver algo desde la forma base lo cual garantiza que todo el problema en general se resuelva al usarse una misma estructura de funcion"
   ]
  },
  {
   "cell_type": "markdown",
   "id": "691524e4",
   "metadata": {},
   "source": [
    "### 2.  Los modelos computacionales nos ayudan a analizar la complejidad de los algoritmos, ya que nos proveen de las especificaciones de la computadora en la cual estos se ejecutarían idealmente"
   ]
  },
  {
   "cell_type": "markdown",
   "id": "78fca391",
   "metadata": {},
   "source": [
    "Verdadero, los modelos computacionales te especifican aspectos sumamente importantes de los algoritmos como su coste en torno al tiempo que se demora la maquina asi como la cantidad de memoria que usan. De cierta manera tambien si te muestran las especificaciones ideales en las cuales los algoritmos correrrian debido a que se puede analizar el mejor caso(mas rapido y efectivo) y el de mayor costo o peor caso."
   ]
  },
  {
   "cell_type": "markdown",
   "id": "e5f602d1",
   "metadata": {},
   "source": [
    "### 3.  La búsqueda en un árbol binario de búsqueda es siempre mas rápida que la búsqueda lineal en un arreglo"
   ]
  },
  {
   "cell_type": "markdown",
   "id": "5dd86f3d",
   "metadata": {},
   "source": [
    "Verdadero, debido a que en un arbol binario de busqueda es mas rapido debido a la constante\n",
    "comparacion de valores para encontrar uno en especifico. Una busqueda lineal en un arreglo en si\n",
    "se vera afectada por el tamaño del arreglo y debido a que tiene que ir por cada posicion desde inicio a final sin poder regresar le ocaciona problemas, esto es mas evidente cuando el imput de datos es de millones y una busqueda lineal por todos los datos es en si menos eficiente que la comparacion de entre ellos. Esto si, contando que exista un algoritmo ya prestablecido que afecte el orden de los datos y los organice en algun orden"
   ]
  },
  {
   "cell_type": "markdown",
   "id": "a1fdae73",
   "metadata": {},
   "source": [
    "### 4. Un algoritmo de complejidad O(nlog(n)) es mas rápido que un algoritmo de complejidad O(n) "
   ]
  },
  {
   "cell_type": "markdown",
   "id": "987660d6",
   "metadata": {},
   "source": [
    "Falso, un algoritmo de dificultad (nLog(n)) es mas demorado que uno de complejidad O (n) en terminos que el ultimo se demora basado en el numero de elementos lo cual ocacione operaciones mas rapidas. El primer complejidad es mas complicada debido que su uso de elementos es mas demorado por el hecho de implicar la utilizacion de logaritmos."
   ]
  },
  {
   "cell_type": "markdown",
   "id": "e296f8f9",
   "metadata": {},
   "source": [
    "### 5.  Un algoritmo de complejidad Ω(nlog(n)) es mas rápido que un algoritmo de complejidad Ω(n)"
   ]
  },
  {
   "cell_type": "markdown",
   "id": "93d382d9",
   "metadata": {},
   "source": [
    "Falso, un algoritmo de dificultad (nLog(n)) es mas demorado que uno de complejidad O (n) en terminos que el ultimo se demora basado en el numero de elementos lo cual ocacione operaciones mas rapidas. El primer complejidad es mas complicada debido que su uso de elementos es mas demorado por el hecho de implicar la utilizacion de logaritmos. Especificamente al involucrar a notacion Big Omega, ciertamente un algoritmo de complejidad (n) seria mas prudente y eficaz en cuestion de tiempo"
   ]
  },
  {
   "cell_type": "markdown",
   "id": "d1446925",
   "metadata": {},
   "source": [
    "## Problemas de programación\n",
    "#### Todo el código debe ser en Python. Si se requiere escribir funciones que hagan búsqueda o ordenamiento (search, sort), programe las funciones usando los conceptos aprendidos en clase. No use las funciones que Python provee para hacer esto. "
   ]
  },
  {
   "cell_type": "markdown",
   "id": "4fb17ce9",
   "metadata": {},
   "source": [
    "### 6. Dada una lista enlazada que represente un número. Por ejemplo, 123 es representado por la lista 1->2->3 si la lista es simple o con doble enlace si es doble. Escriba un programa que haga lo siguiente:\n",
    "\n",
    "1. Reciba dos números A y B como input\n",
    "\n",
    "2. Transforme estos números a listas enlazadas como la definida arriba\n",
    "\n",
    "3. Implemente la resta de los números descritos por esas listas enlazadas. El resultado (A-B) debe ser almacenado en una lista enlazada.\n",
    "\n",
    "4. Imprima el resultado concatenando el valor de los nodos de la lista enlazada resultante\n",
    "\n",
    "Nota: asuma que el número A es mayor que B"
   ]
  },
  {
   "cell_type": "code",
   "execution_count": 1,
   "id": "9bc5dc62",
   "metadata": {},
   "outputs": [],
   "source": [
    "class Node:\n",
    " \n",
    "    def __init__(self, data):\n",
    "        self.data = data\n",
    "        self.next = None\n",
    "        \n",
    "class LinkedList:\n",
    " \n",
    "    def __init__(self):\n",
    "        self.head = None\n",
    "        \n",
    "    def push(self, new_data):\n",
    "        new_node = Node(new_data)\n",
    "        new_node.next = self.head\n",
    "        self.head = new_node\n",
    "        \n",
    "    def addTwoLists(self, first, second):\n",
    "        prev = None\n",
    "        temp = None\n",
    "        carry = 0\n",
    "        while(first is not None or second is not None):\n",
    "\n",
    "            fdata = 0 if first is None else first.data\n",
    "            sdata = 0 if second is None else second.data\n",
    "            Sum = carry + fdata - sdata\n",
    "            carry = 1 if Sum > 10 else 0\n",
    "            Sum = Sum if Sum > 10 else Sum % 10\n",
    "\n",
    "            temp = Node(Sum)\n",
    "\n",
    "            if self.head is None:\n",
    "                self.head = temp\n",
    "            else:\n",
    "                prev.next = temp\n",
    "            prev = temp\n",
    "\n",
    "            if first is not None:\n",
    "                first = first.next\n",
    "            if second is not None:\n",
    "                second = second.next\n",
    " \n",
    "        if carry > 0:\n",
    "            temp.next = Node(carry)\n",
    "            \n",
    "    def printList(self):\n",
    "        temp = self.head\n",
    "        while(temp):\n",
    "            print (temp.data)\n",
    "            temp = temp.next\n",
    " "
   ]
  },
  {
   "cell_type": "code",
   "execution_count": 2,
   "id": "785677c9",
   "metadata": {},
   "outputs": [
    {
     "name": "stdout",
     "output_type": "stream",
     "text": [
      "Lista 1:\n",
      "9\n",
      "10\n",
      "8\n",
      "Lista 2:\n",
      "3\n",
      "6\n",
      "1\n",
      "Lista final:\n",
      "6\n",
      "4\n",
      "7\n"
     ]
    }
   ],
   "source": [
    "first = LinkedList()\n",
    "second = LinkedList()\n",
    "\n",
    "first.push(8)\n",
    "first.push(10)\n",
    "first.push(9)\n",
    "print (\"Lista 1:\")\n",
    "first.printList()\n",
    "\n",
    "second.push(1)\n",
    "second.push(6)\n",
    "second.push(3)\n",
    "print (\"Lista 2:\" )\n",
    "second.printList()\n",
    "\n",
    "res = LinkedList()\n",
    "res.addTwoLists(first.head, second.head)\n",
    "print (\"Lista final:\")\n",
    "res.printList()"
   ]
  },
  {
   "cell_type": "markdown",
   "id": "ad6c65a4",
   "metadata": {},
   "source": [
    "### 7.  Cuando introducimos el concepto de pilas (stacks), usamos como ejemplos una pila de platos. Siguiendo con el ejemplo, una pila de platos con muchos platos se puede caer. Para evitar esto, se puede empezar una nueva pila.\n",
    "\n",
    "Implemente una clase de Python que defina un arreglo de stacks. La idea de tener este arreglo es que cuando un stack alcance su capacidad máxima, un nuevo stack empieza en el mismo arreglo. Las operación pop() debe retornar el mismo valor que lo haría si estuviéramos usando un stack simple. \n",
    "\n",
    "Nota: Debe definir los elementos de la clase: el arreglo de stacks, la capacidad del arreglo (# de stacks en el arreglo), la capacidad de cada stack (# de elementos que puede tener el stack). \n",
    "\n",
    "Hint: Cuando ingrese elementos (push), los elementos van al stack que este activo (el stack que recibe y retira elementos). Debe manejar las condiciones para cambiar el stack activo (cuando un push() deja al stack sin elementos, o cuando un pop() llena el stack)."
   ]
  },
  {
   "cell_type": "code",
   "execution_count": 85,
   "id": "b357ff4f",
   "metadata": {},
   "outputs": [],
   "source": [
    "class Stack(object):\n",
    "    \n",
    "    \n",
    "    stack =[100]\n",
    "    \n",
    "    def __init__(self):\n",
    "        stack.data=data\n",
    "        self.data=[]\n",
    "        self.data=[stack for i in range(10)]\n",
    "        \n",
    "    def _len(self):\n",
    "        return len(self.data)\n",
    "    \n",
    "    def isEmpty(self): \n",
    "        return len(self.data)==0\n",
    "    \n",
    "    def push(self,x):\n",
    "        self.data.append(x)\n",
    "        \n",
    "        if len(stack.data)>=100:\n",
    "            stack = Stack()\n",
    "            self.data[i+1]=stack.data\n",
    "            \n",
    "    def pop(self):\n",
    "        if self.isEmpty():\n",
    "            print(\"Empty Stack\")\n",
    "        return self.data.pop()"
   ]
  },
  {
   "cell_type": "markdown",
   "id": "b3d44802",
   "metadata": {},
   "source": [
    "### 8. Dada una cola con prioridad (PriorityQueue) que contiene elementos (k,v) donde k define la prioridad y v define el valor. Recuerde que los valores con menor k tienen mayor prioridad, es decir si tenemos dos elementos (k1, v1) y (k2, v2), v2 tiene preferencia para salir de la cola antes que v1 si k2< k1. Definimos algunas de las operaciones como siguen:\n",
    "\n",
    "```\n",
    "import ctypes\n",
    "\n",
    "class PriorityQueue(object):\n",
    "\n",
    "\"\"\"\n",
    "\n",
    "Implementation of the queue data structure\n",
    "\n",
    "\"\"\"\n",
    "\n",
    "def __init__(self, n):\n",
    "\n",
    "self.item_count = 0\n",
    "\n",
    "self.n = n\n",
    "\n",
    "self.queue = self._create_queue(self.n)\n",
    "\n",
    "def _create_queue(self, n):\n",
    "\n",
    "\"\"\"\n",
    "\n",
    "Creates a new stack of capacity n\n",
    "\n",
    "\"\"\"\n",
    "\n",
    "return (n * ctypes.py_object)()\n",
    "\n",
    "def dequeue(self):\n",
    "\n",
    "\"\"\"\n",
    "\n",
    "Remove an element from the queue\n",
    "\n",
    "\"\"\"\n",
    "\n",
    "c = self.queue[0]\n",
    "\n",
    "for i in range(1,self.item_count):\n",
    "\n",
    "self.queue[i-1] = self.queue[i]\n",
    "\n",
    "self.queue[self.item_count - 1] = ctypes.py_object\n",
    "\n",
    "self.item_count -= 1\n",
    "\n",
    "return c\n",
    "```\n",
    "\n",
    "### Implemente los métodos enqueue y decreaseKey, tal que ambos métodos tengan complejidad O(log(n)), sin utilizar funciones nativas de Python. Por ejemplo, si necesita hacer una búsqueda, no use la función de Python que implementa esto, programe la función usando for o while loops."
   ]
  },
  {
   "cell_type": "code",
   "execution_count": 97,
   "id": "3d659ac3",
   "metadata": {},
   "outputs": [],
   "source": [
    "def enqueue(self, item):\n",
    "    \n",
    "        for item in len(self.queue):\n",
    "            item= self.queue[j]\n",
    "            i=j-1\n",
    "            \n",
    "            while i>0 and self.queue[i]>item:\n",
    "                self.queue[i+1]=self.queue[i]\n",
    "                i=i-1\n",
    "            self.queue[i+1]=item\n",
    "            \n",
    "        if self.item_count == self.n:\n",
    "            raise ValueError(\"no more capacity\")\n",
    "        self.queue[self.item_count] = item\n",
    "        \n",
    "        self.item_count += 1\n",
    "        \n",
    "\n",
    "def decreaseKey(self,v,k):\n",
    "        ind = 0\n",
    "        j=0\n",
    "        \n",
    "        for j in len(self.queue):\n",
    "            k= self.queue[j]\n",
    "            i=j-1\n",
    "            \n",
    "            while i>0 and self.queue[i]>k:\n",
    "                self.queue[i+1]=self.queue[i]\n",
    "                i=i-1\n",
    "            self.queue[i+1]=k\n",
    "        \n",
    "        while ind < len(self.queue):\n",
    "            if self.queue[ind][1] == v:\n",
    "                break\n",
    "            else:\n",
    "                ind += 1\n",
    "        if ind == len(self.queue):\n",
    "            raise ValueError(\"Value not found\")\n",
    "        self.queue[ind][0] = k"
   ]
  },
  {
   "cell_type": "markdown",
   "id": "3591936d",
   "metadata": {},
   "source": [
    "### 9. Tenemos un árbol binario (binary tree), definimos a un nodo X como rojo, si todos los nodos en el recorrido de la raiz al nodo X tienen un valor que es menor o igual a X. Por ejemplo, en el ejemplo de abajo:\n",
    "\n",
    "![](./binary_tree.png)\n",
    "\n",
    "El recorrido hacia el nodo 3 de la izquierda es 3 → 1 → 3, como todos los valores en este recorrido son menores o iguales a 3 (3=3 y 1<3), el nodo es rojo. Similarmente, en el sub-árbol de la derecha, los nodos 4 y 5 también son rojos. Escriba una función en Python que cuente el numero total de nodos rojos. El input de esta función es la raíz del árbol binario.\n",
    "\n",
    " "
   ]
  },
  {
   "cell_type": "code",
   "execution_count": 55,
   "id": "739fff9e",
   "metadata": {},
   "outputs": [],
   "source": [
    "class Tree:\n",
    "   \n",
    "    def __init__(self, x):\n",
    "       \n",
    "        self.val = x\n",
    "        self.left = None\n",
    "        self.right = None\n",
    " \n",
    "    count = 0\n",
    " \n",
    "\n",
    "    def dfs(self, raiz):\n",
    "   \n",
    "        global count\n",
    "     \n",
    "    \n",
    "        if (self == None):\n",
    "            return\n",
    "        else:\n",
    "             if (self.val >= raiz):\n",
    "                count += 1\n",
    "\n",
    "                dfs(self.left,max(raiz,self.val))\n",
    "\n",
    "                dfs(self.right,max(raiz,self.val))\n",
    "         \n"
   ]
  },
  {
   "cell_type": "code",
   "execution_count": 98,
   "id": "aeeb493f",
   "metadata": {},
   "outputs": [
    {
     "name": "stdout",
     "output_type": "stream",
     "text": [
      "Nodos iguales o superriores a la raiz:  4\n"
     ]
    }
   ],
   "source": [
    "root = Tree(3)\n",
    "root.left = Tree(1)\n",
    "root.left.left=Tree(3)\n",
    "root.right = Tree(4)\n",
    "root.right.left = Tree(1)\n",
    "root.right.right = Tree(5)\n",
    " \n",
    "count = 0\n",
    " \n",
    "dfs(root,3)\n",
    "print(\"Nodos iguales o superriores a la raiz: \",count)"
   ]
  }
 ],
 "metadata": {
  "kernelspec": {
   "display_name": "Python 3",
   "language": "python",
   "name": "python3"
  },
  "language_info": {
   "codemirror_mode": {
    "name": "ipython",
    "version": 3
   },
   "file_extension": ".py",
   "mimetype": "text/x-python",
   "name": "python",
   "nbconvert_exporter": "python",
   "pygments_lexer": "ipython3",
   "version": "3.8.8"
  }
 },
 "nbformat": 4,
 "nbformat_minor": 5
}
