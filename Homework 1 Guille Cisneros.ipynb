{
 "cells": [
  {
   "cell_type": "code",
   "execution_count": 50,
   "id": "9fa792fc",
   "metadata": {},
   "outputs": [],
   "source": [
    "import time\n",
    "import math\n",
    "import pandas as pd\n",
    "import numpy as np\n",
    "import matplotlib.pyplot as plt\n",
    "%matplotlib inline "
   ]
  },
  {
   "cell_type": "markdown",
   "id": "8d0a8bef",
   "metadata": {},
   "source": [
    "# Homework 1\n",
    "\n",
    "### Nombre: Guillermo Cisneros                                                                        \n",
    "### Codigo:00206286"
   ]
  },
  {
   "cell_type": "markdown",
   "id": "35509289",
   "metadata": {},
   "source": [
    "##  1. Sort the following functions in decreasing order of asymptotic complexity ($O(f(n))$):\n",
    "\n",
    "- $f_1(n) = n^\\sqrt{n}$\n",
    "- $f_2(n) = 2^n$\n",
    "- $f_3(n) = {n\\choose 2}$\n",
    "- $f_4(n) = \\sum_{i=2}^n (i-1)$"
   ]
  },
  {
   "cell_type": "markdown",
   "id": "9b15b5d3",
   "metadata": {},
   "source": [
    "1)  $ 2^n$"
   ]
  },
  {
   "cell_type": "markdown",
   "id": "7ca242f3",
   "metadata": {},
   "source": [
    "2)  $ n^\\sqrt{n}$"
   ]
  },
  {
   "cell_type": "markdown",
   "id": "6e9d70e7",
   "metadata": {},
   "source": [
    "3)  $ \\sum_{i=2}^n (i-1)$  "
   ]
  },
  {
   "cell_type": "markdown",
   "id": "3d4a4e7e",
   "metadata": {},
   "source": [
    "4)  $ {n\\choose 2}$"
   ]
  },
  {
   "cell_type": "markdown",
   "id": "6079fb21",
   "metadata": {},
   "source": [
    "## 2. Implement in Python the insertion sort procedure to sort into non-increasing instead of non-decreasing order \n",
    "\n",
    "1. Use the `time` function to measure the execution time for the best and worst inputs of size between 10 and 1,000 (use steps of 10)\n",
    "2. Plot the best and worst execution times measured in (2.1) as a function of $n$\n",
    "3. Use the `random` function to generate randomly sorted inputs to calculate the execution time. For each $n$ run the program for 100 different inputs. Do for $n = 100,200, \\dots, 1000$.\n",
    "4. Plot the mean, median, and standard deviation as a function of $n$ for the values obtained in 2.3\n"
   ]
  },
  {
   "cell_type": "code",
   "execution_count": 51,
   "id": "a4eed085",
   "metadata": {},
   "outputs": [],
   "source": [
    "def insertion_sortR(array):\n",
    "\n",
    "    for i in range(1, len(array)):        \n",
    "        key = array[i]\n",
    "        j = i-1\n",
    "        while (j <= 0) and (key > array[j]):\n",
    "            array[j+1] = array[j]\n",
    "            j += 1\n",
    "        array[j+1] = key"
   ]
  },
  {
   "cell_type": "code",
   "execution_count": 52,
   "id": "b9153817",
   "metadata": {},
   "outputs": [
    {
     "ename": "NameError",
     "evalue": "name 'l' is not defined",
     "output_type": "error",
     "traceback": [
      "\u001b[1;31m---------------------------------------------------------------------------\u001b[0m",
      "\u001b[1;31mNameError\u001b[0m                                 Traceback (most recent call last)",
      "\u001b[1;32m<ipython-input-52-79d93d8f6bd2>\u001b[0m in \u001b[0;36m<module>\u001b[1;34m\u001b[0m\n\u001b[1;32m----> 1\u001b[1;33m \u001b[0mW\u001b[0m \u001b[1;33m=\u001b[0m \u001b[0mrange\u001b[0m\u001b[1;33m(\u001b[0m\u001b[0ml\u001b[0m\u001b[1;33m,\u001b[0m\u001b[0mn\u001b[0m\u001b[1;33m)\u001b[0m\u001b[1;33m\u001b[0m\u001b[1;33m\u001b[0m\u001b[0m\n\u001b[0m\u001b[0;32m      2\u001b[0m \u001b[0mB\u001b[0m \u001b[1;33m=\u001b[0m \u001b[0mreversed\u001b[0m \u001b[1;33m(\u001b[0m\u001b[0mW\u001b[0m\u001b[1;33m)\u001b[0m\u001b[1;33m\u001b[0m\u001b[1;33m\u001b[0m\u001b[0m\n\u001b[0;32m      3\u001b[0m \u001b[1;33m\u001b[0m\u001b[0m\n\u001b[0;32m      4\u001b[0m \u001b[1;32mdef\u001b[0m \u001b[0msort\u001b[0m\u001b[1;33m(\u001b[0m\u001b[0mW\u001b[0m\u001b[1;33m)\u001b[0m\u001b[1;33m:\u001b[0m\u001b[1;33m\u001b[0m\u001b[1;33m\u001b[0m\u001b[0m\n\u001b[0;32m      5\u001b[0m     \u001b[0mt\u001b[0m\u001b[1;33m=\u001b[0m\u001b[0mtime\u001b[0m\u001b[1;33m.\u001b[0m\u001b[0mtime\u001b[0m\u001b[1;33m(\u001b[0m\u001b[1;33m)\u001b[0m\u001b[1;33m\u001b[0m\u001b[1;33m\u001b[0m\u001b[0m\n",
      "\u001b[1;31mNameError\u001b[0m: name 'l' is not defined"
     ]
    }
   ],
   "source": [
    "W = range(l,n)\n",
    "B = reversed (W)\n",
    "\n",
    "def sort(W):\n",
    "    t=time.time()\n",
    "    return (AL, time.time()-s)\n"
   ]
  },
  {
   "cell_type": "code",
   "execution_count": 53,
   "id": "7bacd4fd",
   "metadata": {},
   "outputs": [
    {
     "ename": "NameError",
     "evalue": "name 'in_sort' is not defined",
     "output_type": "error",
     "traceback": [
      "\u001b[1;31m---------------------------------------------------------------------------\u001b[0m",
      "\u001b[1;31mNameError\u001b[0m                                 Traceback (most recent call last)",
      "\u001b[1;32m<ipython-input-53-db61987b55ce>\u001b[0m in \u001b[0;36m<module>\u001b[1;34m\u001b[0m\n\u001b[1;32m----> 1\u001b[1;33m \u001b[0mAL\u001b[0m\u001b[1;33m,\u001b[0m \u001b[0mtiempo\u001b[0m\u001b[1;33m=\u001b[0m\u001b[0min_sort\u001b[0m\u001b[1;33m(\u001b[0m\u001b[0mW\u001b[0m\u001b[1;33m)\u001b[0m\u001b[1;33m\u001b[0m\u001b[1;33m\u001b[0m\u001b[0m\n\u001b[0m",
      "\u001b[1;31mNameError\u001b[0m: name 'in_sort' is not defined"
     ]
    }
   ],
   "source": [
    "AL, tiempo=in_sort(W)"
   ]
  },
  {
   "cell_type": "code",
   "execution_count": null,
   "id": "cd88a510",
   "metadata": {},
   "outputs": [],
   "source": [
    "A=random.randomA(n)"
   ]
  },
  {
   "cell_type": "markdown",
   "id": "a3746feb",
   "metadata": {},
   "source": [
    "## 3.  CLRS 2.1-4\n",
    "pg. 22"
   ]
  },
  {
   "cell_type": "markdown",
   "id": "ed74b2a7",
   "metadata": {},
   "source": [
    "Entrada: Dos arreglos de n-elementos, es decir los arreglos A[i] y B[b] cuyo cada elemento tengan 2 digitos binarios\n",
    "\n",
    "Salida: Un arreglo de n+1 elementos o arreglo C[i] que este conformado de la suma de los digitos binarios de los anteriores arreglos."
   ]
  },
  {
   "cell_type": "code",
   "execution_count": null,
   "id": "8019db90",
   "metadata": {},
   "outputs": [],
   "source": [
    "##Busqueda lineal\n",
    "i = NIL\n",
    "for j = 1 to A.length do\n",
    "    if A[j] = v then\n",
    "        i = j\n",
    "        return i\n",
    "    end if\n",
    "end for\n",
    "return i"
   ]
  },
  {
   "cell_type": "code",
   "execution_count": null,
   "id": "e73224f7",
   "metadata": {},
   "outputs": [],
   "source": [
    "##Arreglo C\n",
    "carga = 0\n",
    "for i=n to 1 do\n",
    "    C[i + 1] = (A[i] + B[i] + carga) (mod 2)\n",
    "    if A[i] + B[i] + carga ≥ 2 then\n",
    "      carga = 1\n",
    "    else\n",
    "      carga = 0\n",
    "    end if\n",
    "end for\n",
    "C[1] = carga"
   ]
  },
  {
   "cell_type": "markdown",
   "id": "fd9ddcc1",
   "metadata": {},
   "source": [
    "## 4.  CLRS 3.1-1\n",
    "pg. 52"
   ]
  },
  {
   "cell_type": "markdown",
   "id": "ae732436",
   "metadata": {},
   "source": [
    "Debido a que las funciones se declaran como \"asimptoticamente no-negativo\", podemos asumir que f(n) y g(n) deberian dar como resultado 0 o un valor mayor a este.\n",
    "\n",
    "Si suponemos que el valor de n0 es el maximo con n1 y n2, podemos asumir que si n debe ser mayor a n1 y n2, entonces tambien lo sera para n0, lo que nos deja con:\n",
    "\n",
    "\n",
    ".$f(n) \\leq max(f(n),g(n))$\n",
    "\n",
    ".$g(n) \\leq max(f(n),g(n))$\n",
    "\n",
    ".$ \\frac{f(n)+g(n)}{2} \\leq max(f(n),g(n))$\n",
    "\n",
    ".$ max(f(n),g(n)) \\leq f(n)+g(n)$\n",
    "\n",
    "\n",
    "\n",
    "Resolviendo la inecuacion tenemos que:\n",
    "\n",
    "$0 \\leq \\frac{1}{2}(f(n)+g(n)) \\leq min(f(n),g(n)) \\leq f(n) +g(n)$ para cuando n > n0\n",
    "\n",
    "\n",
    "\n",
    "Esto ultimo serie siendo la definicion de $\\Theta (f(n)+g(n))$ gracias a que c1 es 1/2 y c2 es 1\n",
    "\n"
   ]
  },
  {
   "cell_type": "markdown",
   "id": "4a070079",
   "metadata": {},
   "source": [
    "## 5. CLRS 3.1-2\n",
    "pg. 52"
   ]
  },
  {
   "cell_type": "markdown",
   "id": "819fe16d",
   "metadata": {},
   "source": [
    "$(n+a)^b =  \\Theta (n^b)$   donde   $ b>0$"
   ]
  },
  {
   "cell_type": "markdown",
   "id": "e2e83816",
   "metadata": {},
   "source": [
    "Limite inferior:\n",
    "\n",
    "$|a|\\geq a \\geq -|a|$\n",
    "\n",
    "$ n+ |a|\\geq n + a \\geq n - |a|$\n",
    "\n",
    "Tenemos que encontrar C1 para que n-|a|> c1n\n",
    "\n",
    "$ n+a \\geq n-|a|\\geq c1n$\n",
    "\n",
    "$ n(1-c1) \\geq |a|$\n",
    "\n",
    "$ n \\geq \\frac{|a|}{1-c1}$\n",
    "\n",
    "C1 esta para asumir que n es un valor positivo, entonces valoramos a C1 con 1/2 y aplicamos este valor en las inecuaciones\n",
    "\n",
    "$ n+a \\geq n-|a|\\geq \\frac{n}{2}$\n",
    "\n",
    "$ n+a \\geq \\frac{n}{2}$\n",
    "\n",
    "$ n \\geq 2|a|$\n",
    "\n",
    "Limite Superior:\n",
    "\n",
    "Ya teniendo el limite inferior, podemos obtener el limite superior esta vez implementando c2\n",
    "\n",
    "$ c2n \\geq n+|a|\\geq n+a$\n",
    "\n",
    "$ c2n \\geq n+|a|$\n",
    "\n",
    "$ n \\geq \\frac{|a|}{c2-1}$\n",
    "\n",
    "Ahora ya podemos obtener el valor de c2 al igualar los terminos anteriores\n",
    "\n",
    "$ \\frac{|a|}{c2-1}=2|a|$\n",
    "\n",
    "$ \\frac{1}{c2-1}=2$\n",
    "\n",
    "$ \\frac{1}{2}=c2-1$\n",
    "\n",
    "$ c2=\\frac{3}{2}$\n",
    "\n",
    "Con C2, cambiamos su valor en las inecuaciones y tenemos:\n",
    "\n",
    "$ \\frac{3}{2}n \\geq n+|a|\\geq n+a$\n",
    "\n",
    "$ \\frac{3}{2} \\geq n+a$\n",
    "\n",
    "$ n\\geq 2|a|$\n",
    "\n",
    "Uniendo las inecuaciones:\n",
    "\n",
    "$ \\frac{3}{2}n \\geq n+a \\geq \\frac{n}{2}$\n",
    "\n",
    "$ (\\frac{3}{2}n)^b \\geq (n+a)^b \\geq (\\frac{n}{2})^b$\n",
    "\n",
    "$ (\\frac{3}{2})^b n^b \\geq (n+a)^b \\geq (\\frac{1}{2})^b n^b$\n",
    "\n",
    "$ (c2)^b n^b \\geq (n+a)^b \\geq (c1)^b n^b$\n",
    "\n",
    "lo que quiere decir que $ (n+a)^b = \\Theta (n^b)$\n",
    "\n"
   ]
  },
  {
   "cell_type": "markdown",
   "id": "7fe796ed",
   "metadata": {},
   "source": [
    "## 6. CLRS 3.1-6\n",
    "pg. 53"
   ]
  },
  {
   "cell_type": "markdown",
   "id": "a6916444",
   "metadata": {},
   "source": [
    "Suponiendo que $\\Theta (g(n))$ es el tiempo de ejecucion, anteriormente se establece que si el tiempo de ejecucion es $O (g(n))$ quiere decir que cualquier valor de entrada mayor a n0 obliga a que el tiempo de ejecucion este arriba por $ c1 g(n)$ con una constante c1 lo cual hace que igualmente cuente el tiempo de ejecucion en el peor caso posible. De igual manera se establece que el tiempo de ejecucion al ser $\\Omega (g(n))$ estara atado debajo por $ c2g(n)$ por la constante c2 lo cual de igual manera incluye el mejor caso posible de tiempo de ejecucion. \n",
    "\n",
    "El tiempo de ejecucion de cualquier variable de entrada tiene arriba el peor caso posible y abajo posee el mejor caso posible, siendo el tiempo de ejecucion $\\Theta (g(n))$ y encrucijado entre O y $\\Omega$"
   ]
  },
  {
   "cell_type": "markdown",
   "id": "2d3a36bc",
   "metadata": {},
   "source": [
    "## 7. CLRS 3-4 (a,b,e,g)\n",
    "pg. 62"
   ]
  },
  {
   "cell_type": "markdown",
   "id": "81cf5dd0",
   "metadata": {},
   "source": [
    "Establezca si es verdadero o falso alguna de las siguientes suposiciones:"
   ]
  },
  {
   "cell_type": "markdown",
   "id": "9fd13564",
   "metadata": {},
   "source": [
    "A) $f(n) = O (g(n))$ implica que $ g(n) = O(f(n))$\n",
    "\n",
    "Es Falso ya que podemos tener a $n=O(n^2)$ pero esto no implica que $n^2 = O(n)$"
   ]
  },
  {
   "cell_type": "markdown",
   "id": "9b412cdc",
   "metadata": {},
   "source": [
    "B) $f(n) + g(n) = \\Theta (min (f(n),g(n)))$\n",
    "\n",
    "Esta sentencia es Falsa ya que la suma como $n+n^2$ no puede ser igual a $\\Theta(n)$"
   ]
  },
  {
   "cell_type": "markdown",
   "id": "3bb3f52f",
   "metadata": {},
   "source": [
    "E) $f(n) = O((f(n))^2)$\n",
    "\n",
    "Es Falso y lo demostraremos con un ejemplo, si $f(n)=\\frac{1}{n}$, podemos intuir que la constante c aumentaria el valor de la funcion f(n) en comparacion con la funcion original. Sin embargo, si se establece que lo anterior tambien significa que $n\\geq n0$, entonces si se estructura a $kc \\geq n0$ y esta K añadida es mayor a 1. Esto provoca que resultados como $\\frac{1}{kc} \\leq \\frac{c}{k^2c^2} = \\frac{1}{k^2c}$ no tengan sentido logico"
   ]
  },
  {
   "cell_type": "markdown",
   "id": "ade5c813",
   "metadata": {},
   "source": [
    "G) $f(n)=\\Theta (f(n/2))$\n",
    "\n",
    "Es una notacion Falsa ya que si tenemos una funcion parecida como $f(n)=2^2n$, esta no implica que sera lo mismo que $O(2^n)$"
   ]
  }
 ],
 "metadata": {
  "kernelspec": {
   "display_name": "Python 3",
   "language": "python",
   "name": "python3"
  },
  "language_info": {
   "codemirror_mode": {
    "name": "ipython",
    "version": 3
   },
   "file_extension": ".py",
   "mimetype": "text/x-python",
   "name": "python",
   "nbconvert_exporter": "python",
   "pygments_lexer": "ipython3",
   "version": "3.8.8"
  }
 },
 "nbformat": 4,
 "nbformat_minor": 5
}
